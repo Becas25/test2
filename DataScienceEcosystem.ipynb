{
  "nbformat": 4,
  "nbformat_minor": 0,
  "metadata": {
    "colab": {
      "provenance": [],
      "authorship_tag": "ABX9TyPXnmrakBJloj8IDeUGrY6U",
      "include_colab_link": true
    },
    "kernelspec": {
      "name": "python3",
      "display_name": "Python 3"
    },
    "language_info": {
      "name": "python"
    }
  },
  "cells": [
    {
      "cell_type": "markdown",
      "metadata": {
        "id": "view-in-github",
        "colab_type": "text"
      },
      "source": [
        "<a href=\"https://colab.research.google.com/github/Becas25/test2/blob/main/DataScienceEcosystem.ipynb\" target=\"_parent\"><img src=\"https://colab.research.google.com/assets/colab-badge.svg\" alt=\"Open In Colab\"/></a>"
      ]
    },
    {
      "cell_type": "markdown",
      "source": [
        "# Data Science Tools and Ecosystem"
      ],
      "metadata": {
        "id": "6Um3ghVQRFXD"
      }
    },
    {
      "cell_type": "markdown",
      "source": [
        "#### In this notebook, Data Science Tools and Ecosystem are summarized."
      ],
      "metadata": {
        "id": "aNNPAjPOR3M9"
      }
    },
    {
      "cell_type": "markdown",
      "source": [
        "**Objectives:**\n",
        "- List of popular languages in Data Science (DS)\n",
        "- List of commonly used libraries in DS\n",
        "- Create a table\n",
        "- Evaluate simple arithmetic expressions"
      ],
      "metadata": {
        "id": "Qg0RNEUrVjet"
      }
    },
    {
      "cell_type": "markdown",
      "source": [
        "Some of the popular languages that Data Scientists use are:\n",
        "1. Python\n",
        "2. R\n",
        "3. SQL\n",
        "4. Julia\n"
      ],
      "metadata": {
        "id": "JdZ-DPTtSbtq"
      }
    },
    {
      "cell_type": "markdown",
      "source": [
        "Some of the commonly used libraries used by Data Scientists include:\n",
        "1. NumPy (in Python)\n",
        "2. pandas (in Python)\n",
        "3. ggplot2 (in R)\n",
        "4. caret (in R)"
      ],
      "metadata": {
        "id": "NADoe_XcTNc6"
      }
    },
    {
      "cell_type": "markdown",
      "source": [
        "| Data Science Tools |\n",
        "| -------------|\n",
        "| Jupyter Notebook |\n",
        "| RStudio |\n",
        "| VS Code |"
      ],
      "metadata": {
        "id": "vCi_6pJtT2Q-"
      }
    },
    {
      "cell_type": "markdown",
      "source": [
        "### Below are a few examples of evaluating arithmetic expressions in Python"
      ],
      "metadata": {
        "id": "VKMx9zf3U14l"
      }
    },
    {
      "cell_type": "code",
      "source": [
        "#This a simple arithmetic expression to mutiply then add integers\n",
        "(3*4)+5"
      ],
      "metadata": {
        "colab": {
          "base_uri": "https://localhost:8080/"
        },
        "id": "3TSbCOFAVDtC",
        "outputId": "7b48e38e-39a7-4a64-8876-9df90581fdec"
      },
      "execution_count": 1,
      "outputs": [
        {
          "output_type": "execute_result",
          "data": {
            "text/plain": [
              "17"
            ]
          },
          "metadata": {},
          "execution_count": 1
        }
      ]
    },
    {
      "cell_type": "code",
      "source": [
        "#This will convert 200 minutes to hours by diving by 60\n",
        "200/60"
      ],
      "metadata": {
        "colab": {
          "base_uri": "https://localhost:8080/"
        },
        "id": "J126BihnVUgp",
        "outputId": "2dd3e1d6-8e80-4cda-c04d-92cf1561d8b6"
      },
      "execution_count": 2,
      "outputs": [
        {
          "output_type": "execute_result",
          "data": {
            "text/plain": [
              "3.3333333333333335"
            ]
          },
          "metadata": {},
          "execution_count": 2
        }
      ]
    },
    {
      "cell_type": "markdown",
      "source": [
        "## Author\n",
        "Bernardo Lopes Gonçalves"
      ],
      "metadata": {
        "id": "ABlfBtSzWR6N"
      }
    }
  ]
}